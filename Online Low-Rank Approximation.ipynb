{
 "cells": [
  {
   "cell_type": "code",
   "execution_count": 1,
   "metadata": {
    "scrolled": true
   },
   "outputs": [],
   "source": [
    "import numpy as np\n",
    "import pandas as pd\n",
    "import matplotlib\n",
    "import matplotlib.pyplot as plt\n",
    "%matplotlib inline"
   ]
  },
  {
   "cell_type": "markdown",
   "metadata": {},
   "source": [
    "## Low Rank Approximation (PCA)\n",
    "\n",
    "- Many data sets come in the form of a matrix.\n",
    "- Think of $A$ as a stack of $n$ data points in $\\mathbb{R}^d$.\n",
    "- For example, $A$ can be a customer-product matrix, where each entry $A_{ij}$ refers to the number of times customer $i$ purchased item $j$.\n",
    "- A data matrix $A$ is typically well-approximated by a low rank matrix, that is\n",
    "$$\n",
    "A = A_{approx} + E,\n",
    "$$\n",
    "where $rank(A_{approx})=k$ and $\\|E\\|_F$ is close to zero. (The *Frobenius norm* $\\|\\cdot\\|_F$ is computed by summing up the square of its entries).\n",
    "- Compare to $A$, $A_{approx}$ is easier to store and its values are more interpretable.\n",
    "\n",
    "**Problem:** Given a matrix $A\\in\\mathbb{R}^{n\\times d}$ and a $k\\ll d<n$, find a $k$-dimensional subspace $S$ such that $\\|A - \\Pi_SA\\|_F^2$ is minimized.\n",
    "\n",
    "**Traiditional solution:** Truncated singular value decomposition (Truncated SVD)\n",
    "Any matrix $A$ can be written as $A = U\\cdot \\Sigma \\cdot V$, where\n",
    "- Matrix $U$ has orthonormal column vectors\n",
    "- Matrix $\\Sigma$ is a diagonal matrix with non-increasing positive entries down the diagonal\n",
    "- Matrix $V$ has othonormal row vectors\n",
    "\n",
    "The best rank-$k$ approximation to $A$ is $A_k=U_k\\cdot\\Sigma_k\\cdot V_k$, where\n",
    "- Matrix $U_k$ consists of the first $k$ columns of $U$.\n",
    "- Matrix $V_k$ consists of the first $k$ rows of $V$. (They are called the **top $k$ principal components**.)\n",
    "- Matrix $\\Sigma_k$ consists of the first $k$ diagonal elements of $\\Sigma$.\n",
    "\n",
    "Equivalently speaking, $A_k = argmin_{rank(B)=k}\\|A - B\\|_F$. The **main problem with the SVD approch** is its high computational complexity ($O(nd^2)$). Moreover, this method requires loading the entire matrix to the memory."
   ]
  },
  {
   "cell_type": "markdown",
   "metadata": {},
   "source": [
    "### Randomized Low Rank Approximation\n",
    "**Goal:** Find a method that uses less than $nd^2$ time to output a rank-$k$ matrix $A'$ such that\n",
    "$$\n",
    "\\|A - A'\\|_F \\le (1+\\epsilon)\\|A - A_k\\|_F.\n",
    "$$\n",
    "\n",
    "**Existing literature:**\n",
    "- [Clarkson-Woodruff 13]: near linear time in input sparsity\n",
    "- [Ghashami-Liberty-Phillips-Woodruff 16]: streaming algorithms\n",
    "\n",
    "**Main idea:**\n",
    "- Construct a $k/\\epsilon\\times n$ subspace embedding matrix $S$ (such as CountSketch matrix)\n",
    "- Compute $SA$, which forms a compact representation of rows of $A$.\n",
    "- Project rows of $A$ onto $SA$.\n",
    "- Find the best rank-$k$ approximation to points inside of $SA$. (Since $SA$ is a much smaller matrix, low-rank approximation of $SA$ is much easier to solve.)"
   ]
  },
  {
   "cell_type": "markdown",
   "metadata": {},
   "source": [
    "### Choice of embedding matrix $S$\n",
    "\n",
    "**Goal:** $S$ should be easy to construct, and the computation of $SA$ should require less than $ndk$ time.\n",
    "\n",
    "A practical choice is the **CountSketch** matrix, where each column contains exactly one $\\pm 1$ at a random row. For example:\n",
    "\n",
    "\\begin{equation*}\n",
    "S =  \n",
    "\\begin{pmatrix}\n",
    "0 & 0 & 1 & 0 & 0 & 1 & 0 & 0\\\\\n",
    "1 & 0 & 0 & 0 & 0 & 0 & 0 & 0\\\\\n",
    "0 & 0 & 0 & -1& 1 & 0 & -1& 0\\\\\n",
    "0 & 1 & 0 & 0 & 0 & 0 & 0 & 1\n",
    "\\end{pmatrix}\n",
    "\\end{equation*}\n",
    "\n",
    "Because of the special structure of $S$, to compute $SA$,one only need to add $A_{(i)}$ to the result for each row $A_{(i)}$ of matrix $A$."
   ]
  },
  {
   "cell_type": "markdown",
   "metadata": {},
   "source": [
    "## Part I: Synthetic Input"
   ]
  },
  {
   "cell_type": "code",
   "execution_count": 2,
   "metadata": {},
   "outputs": [
    {
     "data": {
      "text/plain": [
       "(200, 100)"
      ]
     },
     "execution_count": 2,
     "metadata": {},
     "output_type": "execute_result"
    }
   ],
   "source": [
    "# An example of low-rank approximation using CountSketch matrix\n",
    "\n",
    "# construct input matrix $A$\n",
    "def input_mat(n, d, r, seed=42):\n",
    "    \"\"\"\n",
    "    Generate an n*d random matrix with approximate rank r.\n",
    "    \n",
    "    Require: n > d > r > 0.\n",
    "    \"\"\"\n",
    "    np.random.seed(seed)\n",
    "    M = np.random.rand(n, d)\n",
    "    U, S, V = np.linalg.svd(M, full_matrices=False)\n",
    "    diagonal = np.hstack([np.linspace(1, 10, r), np.zeros(d - r)])\n",
    "    new_S = np.diag(diagonal)\n",
    "    return U.dot(new_S).dot(V)\n",
    "\n",
    "n = 200\n",
    "d = 100\n",
    "k = 10\n",
    "A = input_mat(n, d, k)\n",
    "A.shape"
   ]
  },
  {
   "cell_type": "code",
   "execution_count": 3,
   "metadata": {},
   "outputs": [
    {
     "data": {
      "text/plain": [
       "[20, 200]"
      ]
     },
     "execution_count": 3,
     "metadata": {},
     "output_type": "execute_result"
    }
   ],
   "source": [
    "# Step 1: \n",
    "# Generate a CountSketch matrix S, represented by two lists h and sigma, where h stores the row number of \n",
    "# the non-zero entry on each column, and sigma stores its value.\n",
    "def count_sketch(m, n, seed=42):\n",
    "    \"\"\"\n",
    "    Generate an m*n CountSketch matrix\n",
    "    \n",
    "    Output:\n",
    "    size: size of the matrix S\n",
    "    h: a list storing the row number of the non-zero entry on each column\n",
    "    sigma: a list storing the value of the non-zero entry on each column\n",
    "    \"\"\"\n",
    "    np.random.seed(seed)\n",
    "    ary = np.arange(m)\n",
    "    size = [m, n]\n",
    "    h = np.random.choice(ary, n)\n",
    "    sigma = np.random.choice([-1, 1], n)\n",
    "    return size, h, sigma\n",
    "    \n",
    "m = 20\n",
    "S_size, S_h, S_sigma = count_sketch(m, n)\n",
    "S_size"
   ]
  },
  {
   "cell_type": "code",
   "execution_count": 4,
   "metadata": {},
   "outputs": [
    {
     "data": {
      "text/plain": [
       "array([[-0.53440505, -0.23080665,  0.7119568 , ..., -0.63387905,\n",
       "         0.05230352,  0.25924817],\n",
       "       [-0.72076792, -0.20804511,  0.43338964, ...,  0.43135791,\n",
       "         0.12176035,  0.10669987],\n",
       "       [-0.2393303 ,  0.17371414,  0.53481105, ..., -0.22615432,\n",
       "         0.43641781, -0.20194093],\n",
       "       ...,\n",
       "       [-0.33691237, -0.01925639, -0.20071573, ...,  0.64413153,\n",
       "        -0.15210403,  0.26085918],\n",
       "       [ 0.152788  , -0.21561768,  0.53742216, ...,  0.09351726,\n",
       "         0.10495453,  0.3206282 ],\n",
       "       [-0.36520901,  0.2183839 , -0.23870602, ..., -0.92452083,\n",
       "         0.012926  , -0.76878233]])"
      ]
     },
     "execution_count": 4,
     "metadata": {},
     "output_type": "execute_result"
    }
   ],
   "source": [
    "# Step 2:\n",
    "# Perform fast matrix multiplication SA.\n",
    "def count_sketch_multi(S_size, S_h, S_sigma, A):\n",
    "    \"\"\"\n",
    "    Multiply S and A.\n",
    "    \"\"\"\n",
    "    m, n = S_size\n",
    "#     print(m, n)\n",
    "    d = A.shape[1]\n",
    "    result = np.zeros([m, d])\n",
    "    for i in range(n):\n",
    "#         print('i:', i, 'S_h[i]:', S_h[i])\n",
    "        result[S_h[i], :] += S_sigma[i] * A[i, :]\n",
    "#         print(\"max, min:\", result.max(), result.min())\n",
    "    return result\n",
    "SA = count_sketch_multi(S_size, S_h, S_sigma, A)\n",
    "SA"
   ]
  },
  {
   "cell_type": "code",
   "execution_count": 5,
   "metadata": {},
   "outputs": [
    {
     "name": "stdout",
     "output_type": "stream",
     "text": [
      "1.893259046995209e-14\n"
     ]
    }
   ],
   "source": [
    "# Step 3:\n",
    "# Project each of the rows onto SA.\n",
    "def approx_embedding(SA, A, m2=None):\n",
    "    \"\"\"\n",
    "    Compute an approximate rank-k embedding X of A onto SA, that is:\n",
    "    a) rank(X) = k\n",
    "    b) X * SA is close to A.\n",
    "    \"\"\"\n",
    "    m, d = SA.shape\n",
    "    \n",
    "    if m2 is None:\n",
    "        m2 = m\n",
    "    R_size, R_h, R_sigma = count_sketch(m2, d)\n",
    "    SAR = count_sketch_multi(R_size, R_h, R_sigma, SA.T).T\n",
    "    AR = count_sketch_multi(R_size, R_h, R_sigma, A.T).T\n",
    "    sol = np.linalg.lstsq(SAR.T, AR.T, rcond=None)\n",
    "    return sol[0].T\n",
    "\n",
    "def exact_embedding(SA, A):\n",
    "    sol = np.linalg.lstsq(SA.T, A.T, rcond=None)\n",
    "    return sol[0].T    \n",
    "\n",
    "X1 = approx_embedding(SA, A)\n",
    "X2 = exact_embedding(SA, A) # for comparison purpose\n",
    "print(np.linalg.norm(X1 - X2)) # X2 should be close to X1"
   ]
  },
  {
   "cell_type": "code",
   "execution_count": 6,
   "metadata": {},
   "outputs": [
    {
     "name": "stdout",
     "output_type": "stream",
     "text": [
      "1.0055016101325949e-14\n"
     ]
    }
   ],
   "source": [
    "# Step 4: Find the best rank-k approximation of projected points inside of rowspace SA\n",
    "def low_rank_approx(X, k):\n",
    "    n, d = X.shape\n",
    "    U, S, V = np.linalg.svd(X)\n",
    "    Uk = U[:, :k]\n",
    "    Sigmak = np.diag(S[:k])\n",
    "    Vk = V[:k, :]\n",
    "    return Uk.dot(Sigmak).dot(Vk)\n",
    "X_approx = low_rank_approx(X1, k)\n",
    "print(np.linalg.norm(X1 - X_approx))"
   ]
  },
  {
   "cell_type": "code",
   "execution_count": 7,
   "metadata": {},
   "outputs": [
    {
     "name": "stdout",
     "output_type": "stream",
     "text": [
      "Low rank approximation error: 9.074157782198008e-14\n",
      "size of A: (200, 100)\n",
      "size of X_approx (200, 20)  | size of SA: (20, 100)\n"
     ]
    }
   ],
   "source": [
    "# Verify that A is closely approximated by the product of X_approx and SA\n",
    "print('Low rank approximation error:', np.linalg.norm(A - X_approx.dot(SA)))\n",
    "print('size of A:', A.shape)\n",
    "print('size of X_approx', X_approx.shape, ' | size of SA:', SA.shape)"
   ]
  },
  {
   "cell_type": "markdown",
   "metadata": {},
   "source": [
    "### Part II: Test on real data\n",
    "Data source: [WSN Sensor Network](https://github.com/apanouso/wsn-indfeat-dataset)"
   ]
  },
  {
   "cell_type": "code",
   "execution_count": 8,
   "metadata": {},
   "outputs": [
    {
     "name": "stdout",
     "output_type": "stream",
     "text": [
      "Has missing value? False\n",
      "size: (1997, 18)\n"
     ]
    },
    {
     "data": {
      "text/html": [
       "<div>\n",
       "<style scoped>\n",
       "    .dataframe tbody tr th:only-of-type {\n",
       "        vertical-align: middle;\n",
       "    }\n",
       "\n",
       "    .dataframe tbody tr th {\n",
       "        vertical-align: top;\n",
       "    }\n",
       "\n",
       "    .dataframe thead th {\n",
       "        text-align: right;\n",
       "    }\n",
       "</style>\n",
       "<table border=\"1\" class=\"dataframe\">\n",
       "  <thead>\n",
       "    <tr style=\"text-align: right;\">\n",
       "      <th></th>\n",
       "      <th>0</th>\n",
       "      <th>1</th>\n",
       "      <th>2</th>\n",
       "      <th>3</th>\n",
       "      <th>4</th>\n",
       "      <th>5</th>\n",
       "      <th>6</th>\n",
       "      <th>7</th>\n",
       "      <th>8</th>\n",
       "      <th>9</th>\n",
       "      <th>10</th>\n",
       "      <th>11</th>\n",
       "      <th>12</th>\n",
       "      <th>13</th>\n",
       "      <th>14</th>\n",
       "      <th>15</th>\n",
       "      <th>16</th>\n",
       "      <th>17</th>\n",
       "    </tr>\n",
       "  </thead>\n",
       "  <tbody>\n",
       "    <tr>\n",
       "      <th>0</th>\n",
       "      <td>-83.023</td>\n",
       "      <td>12.3480</td>\n",
       "      <td>103.580</td>\n",
       "      <td>17.0340</td>\n",
       "      <td>-96.558</td>\n",
       "      <td>1.54900</td>\n",
       "      <td>415.19</td>\n",
       "      <td>282.10</td>\n",
       "      <td>3.0</td>\n",
       "      <td>0.0</td>\n",
       "      <td>0.46237</td>\n",
       "      <td>21.730</td>\n",
       "      <td>0.013801</td>\n",
       "      <td>59.999</td>\n",
       "      <td>0.062087</td>\n",
       "      <td>2.8211</td>\n",
       "      <td>0.000369</td>\n",
       "      <td>0.46237</td>\n",
       "    </tr>\n",
       "    <tr>\n",
       "      <th>1</th>\n",
       "      <td>-81.694</td>\n",
       "      <td>6.2940</td>\n",
       "      <td>104.390</td>\n",
       "      <td>9.7068</td>\n",
       "      <td>-97.000</td>\n",
       "      <td>0.00000</td>\n",
       "      <td>425.88</td>\n",
       "      <td>297.23</td>\n",
       "      <td>3.0</td>\n",
       "      <td>0.0</td>\n",
       "      <td>0.46997</td>\n",
       "      <td>21.749</td>\n",
       "      <td>0.013156</td>\n",
       "      <td>59.801</td>\n",
       "      <td>0.055224</td>\n",
       "      <td>2.8204</td>\n",
       "      <td>0.001077</td>\n",
       "      <td>0.53846</td>\n",
       "    </tr>\n",
       "    <tr>\n",
       "      <th>2</th>\n",
       "      <td>-59.200</td>\n",
       "      <td>1.8933</td>\n",
       "      <td>97.622</td>\n",
       "      <td>2.8573</td>\n",
       "      <td>-96.000</td>\n",
       "      <td>0.66667</td>\n",
       "      <td>425.28</td>\n",
       "      <td>294.42</td>\n",
       "      <td>3.0</td>\n",
       "      <td>0.0</td>\n",
       "      <td>0.53407</td>\n",
       "      <td>21.796</td>\n",
       "      <td>0.012200</td>\n",
       "      <td>59.617</td>\n",
       "      <td>0.046249</td>\n",
       "      <td>2.8187</td>\n",
       "      <td>0.001255</td>\n",
       "      <td>0.49450</td>\n",
       "    </tr>\n",
       "    <tr>\n",
       "      <th>3</th>\n",
       "      <td>-84.596</td>\n",
       "      <td>6.0869</td>\n",
       "      <td>103.480</td>\n",
       "      <td>5.9804</td>\n",
       "      <td>-96.981</td>\n",
       "      <td>0.13425</td>\n",
       "      <td>414.00</td>\n",
       "      <td>287.29</td>\n",
       "      <td>3.0</td>\n",
       "      <td>0.0</td>\n",
       "      <td>0.50158</td>\n",
       "      <td>21.745</td>\n",
       "      <td>0.033598</td>\n",
       "      <td>59.622</td>\n",
       "      <td>0.032468</td>\n",
       "      <td>2.8168</td>\n",
       "      <td>0.001082</td>\n",
       "      <td>0.56522</td>\n",
       "    </tr>\n",
       "    <tr>\n",
       "      <th>4</th>\n",
       "      <td>-58.977</td>\n",
       "      <td>2.4313</td>\n",
       "      <td>97.136</td>\n",
       "      <td>3.2996</td>\n",
       "      <td>-94.659</td>\n",
       "      <td>10.67900</td>\n",
       "      <td>428.33</td>\n",
       "      <td>296.67</td>\n",
       "      <td>3.0</td>\n",
       "      <td>0.0</td>\n",
       "      <td>0.56108</td>\n",
       "      <td>21.669</td>\n",
       "      <td>0.008684</td>\n",
       "      <td>59.659</td>\n",
       "      <td>0.014816</td>\n",
       "      <td>2.8154</td>\n",
       "      <td>0.001229</td>\n",
       "      <td>0.52381</td>\n",
       "    </tr>\n",
       "  </tbody>\n",
       "</table>\n",
       "</div>"
      ],
      "text/plain": [
       "       0        1        2        3       4         5       6       7    8   \\\n",
       "0 -83.023  12.3480  103.580  17.0340 -96.558   1.54900  415.19  282.10  3.0   \n",
       "1 -81.694   6.2940  104.390   9.7068 -97.000   0.00000  425.88  297.23  3.0   \n",
       "2 -59.200   1.8933   97.622   2.8573 -96.000   0.66667  425.28  294.42  3.0   \n",
       "3 -84.596   6.0869  103.480   5.9804 -96.981   0.13425  414.00  287.29  3.0   \n",
       "4 -58.977   2.4313   97.136   3.2996 -94.659  10.67900  428.33  296.67  3.0   \n",
       "\n",
       "    9        10      11        12      13        14      15        16       17  \n",
       "0  0.0  0.46237  21.730  0.013801  59.999  0.062087  2.8211  0.000369  0.46237  \n",
       "1  0.0  0.46997  21.749  0.013156  59.801  0.055224  2.8204  0.001077  0.53846  \n",
       "2  0.0  0.53407  21.796  0.012200  59.617  0.046249  2.8187  0.001255  0.49450  \n",
       "3  0.0  0.50158  21.745  0.033598  59.622  0.032468  2.8168  0.001082  0.56522  \n",
       "4  0.0  0.56108  21.669  0.008684  59.659  0.014816  2.8154  0.001229  0.52381  "
      ]
     },
     "execution_count": 8,
     "metadata": {},
     "output_type": "execute_result"
    }
   ],
   "source": [
    "ls = []\n",
    "for k in range(1, 11):\n",
    "    url = \"https://raw.githubusercontent.com/apanouso/wsn-indfeat-dataset/master/node\" + str(k) + \".csv\"\n",
    "    df = pd.read_csv(url, header=None)\n",
    "#     print(df.shape)\n",
    "    ls.append(df)\n",
    "df = pd.concat(ls, axis=0, ignore_index=True)\n",
    "df = df.dropna()\n",
    "print(\"Has missing value?\", df.isnull().values.any())\n",
    "print(\"size:\", df.shape)\n",
    "df.head()"
   ]
  },
  {
   "cell_type": "code",
   "execution_count": 9,
   "metadata": {},
   "outputs": [],
   "source": [
    "# convert data frame to numpy array\n",
    "A = df.to_numpy()\n",
    "# flat every 5 rows into one row\n",
    "A = A[:1995, :]\n",
    "A = A.reshape([int(1995/5), 18*5])"
   ]
  },
  {
   "cell_type": "code",
   "execution_count": 10,
   "metadata": {},
   "outputs": [
    {
     "name": "stdout",
     "output_type": "stream",
     "text": [
      "target rank: 10\n",
      "Best rank-k approximation error: 863.8968140028624\n"
     ]
    },
    {
     "data": {
      "image/png": "[encoded data removed]",
      "text/plain": [
       "<Figure size 432x288 with 1 Axes>"
      ]
     },
     "metadata": {},
     "output_type": "display_data"
    }
   ],
   "source": [
    "k = 10 # target rank\n",
    "print(\"target rank:\", k)\n",
    "# Exact low-rank approximation of A\n",
    "U, S, V = np.linalg.svd(A, full_matrices=False)\n",
    "# Uk = U[:, :k]\n",
    "# Sigmak = np.diag(S[:k])\n",
    "# Vk = V[:k, :]\n",
    "# Ak = Uk.dot(Sigmak).dot(Vk)\n",
    "Ak = low_rank_approx(A, k)\n",
    "print(\"Best rank-k approximation error:\", np.linalg.norm(A - Ak, ord=2))\n",
    "plt.plot(np.arange(len(S)), S, 'b.')\n",
    "# plt.yscale(\"log\")\n",
    "plt.title(\"Singular values of A\")\n",
    "# plt.xticks(np.arange(len(S)))\n",
    "plt.show()"
   ]
  },
  {
   "cell_type": "code",
   "execution_count": 11,
   "metadata": {},
   "outputs": [],
   "source": [
    "# AA = SA.T\n",
    "# print(\"AA:\", AA.shape)\n",
    "# BB = A.T\n",
    "# print(\"BB:\", BB.shape)\n",
    "# XX = np.linalg.lstsq(AA, BB, rcond=None)[0]\n",
    "# print(\"XX\", XX.shape)\n",
    "# print(\"||AA*XX - BB||:\", np.linalg.norm(AA.dot(XX) - BB))\n",
    "# print(\"||BB||:\", np.linalg.norm(BB))\n",
    "# XX_approx = approx_embedding(SA, A)\n",
    "# print(\"||AA*XX_approx - BB||:\", np.linalg.norm(XX_approx.dot(SA) - A))"
   ]
  },
  {
   "cell_type": "code",
   "execution_count": 12,
   "metadata": {},
   "outputs": [
    {
     "name": "stdout",
     "output_type": "stream",
     "text": [
      "size of input matrix A: 399 90\n",
      "size of CountSketch matrix S: [39, 399]\n",
      "size of SA: (39, 90)\n",
      "||X - X_1|| (error norm of projection onto SA): 33.1399079551003\n",
      "||A - X_1 * SA||: 2434.395717458707\n",
      "||A - X_approx * (SA)|| (Low rank approximation error): 2434.395717458707\n",
      "||A - X_precise * (SA)|| (Low rank approximation with exact projection): 102.71841995400037\n",
      "||A - A_k|| (Best rank-k approximation error): 863.8968140028624\n",
      "||A - A_m|| (Best rank-m approximation error): 24.046269581147964\n",
      "size of A: (399, 90)\n",
      "size of X_approx (399, 39)  | size of SA: (39, 90)\n"
     ]
    }
   ],
   "source": [
    "# size of input data matrix A\n",
    "# n = 200\n",
    "# d = 100\n",
    "# k = 10\n",
    "# A = input_mat(n, d, k)\n",
    "\n",
    "n, d = A.shape\n",
    "print(\"size of input matrix A:\", n, d)\n",
    "\n",
    "# Step 1: sample 10% rows and construct m*n CountSketch matrix\n",
    "m = n // 10\n",
    "# m = 1000\n",
    "S_size, S_h, S_sigma = count_sketch(m, n)\n",
    "print(\"size of CountSketch matrix S:\", S_size)\n",
    "\n",
    "# Step 2: compute SA\n",
    "SA = count_sketch_multi(S_size, S_h, S_sigma, A)\n",
    "print(\"size of SA:\", SA.shape)\n",
    "\n",
    "# Step 3: project each of the rows onto SA\n",
    "X1 = approx_embedding(SA, A)\n",
    "X2 = exact_embedding(SA, A) # for comparison purpose\n",
    "print(\"||X - X_1|| (error norm of projection onto SA):\", np.linalg.norm(X1 - X2, ord=2)) # X2 should be close to X1\n",
    "\n",
    "print(\"||A - X_1 * SA||:\", np.linalg.norm(A - X1.dot(SA), ord=2))\n",
    "\n",
    "# DELETE:\n",
    "# X1 = X2\n",
    "\n",
    "# # Step 4: find the best rank-k approximation of projected points inside of rowspace SA\n",
    "# X_approx = low_rank_approx(X1, k)\n",
    "# print(\"||X_approx|| (norm of projection matrix):\", np.linalg.norm(X1, ord=2))\n",
    "# print(\"approximation error on projection matrix:\", np.linalg.norm(X1 - X_approx, ord=2))\n",
    "# print(\"Best approximation error on projection matrix:\", np.linalg.norm(X1 - low_rank_approx(X1, k),\n",
    "#                                                                        ord=2))\n",
    "X_approx = X1\n",
    "\n",
    "# Verify that A is closely approximated by the product of X_approx and SA\n",
    "print('||A - X_approx * (SA)|| (Low rank approximation error):', np.linalg.norm(A - X_approx.dot(SA), ord=2))\n",
    "print('||A - X_precise * (SA)|| (Low rank approximation with exact projection):',\n",
    "      np.linalg.norm(A - X2.dot(SA), ord=2))\n",
    "print('||A - A_k|| (Best rank-k approximation error):', np.linalg.norm(A - low_rank_approx(A, k),\n",
    "                                                           ord=2))\n",
    "print('||A - A_m|| (Best rank-m approximation error):',\n",
    "      np.linalg.norm(A - low_rank_approx(A, m), ord=2))\n",
    "print('size of A:', A.shape)\n",
    "print('size of X_approx', X_approx.shape, ' | size of SA:', SA.shape)"
   ]
  },
  {
   "cell_type": "code",
   "execution_count": 13,
   "metadata": {},
   "outputs": [
    {
     "data": {
      "text/plain": [
       "array([3.37471182e+04, 8.17227800e+03, 3.32788586e+03, 2.58502773e+03,\n",
       "       1.76740089e+03, 1.63556079e+03, 1.31550061e+03, 1.04508845e+03,\n",
       "       9.03802866e+02, 8.42713276e+02, 6.77134538e+02, 5.72112643e+02,\n",
       "       4.57595479e+02, 4.34471648e+02, 3.18720526e+02, 2.95733544e+02,\n",
       "       2.61484389e+02, 2.36117092e+02, 1.99084036e+02, 1.83809100e+02,\n",
       "       1.49361206e+02, 1.17033872e+02, 1.14884182e+02, 9.97283178e+01,\n",
       "       9.30976765e+01, 8.24945200e+01, 6.67621791e+01, 5.36388991e+01,\n",
       "       5.11614472e+01, 3.73004889e+01, 3.57000649e+01, 3.09439568e+01,\n",
       "       2.42610654e+01, 2.16222055e+01, 1.48020465e+01, 9.73746844e+00,\n",
       "       8.08717293e+00, 7.33388438e+00, 4.36876416e+00])"
      ]
     },
     "execution_count": 13,
     "metadata": {},
     "output_type": "execute_result"
    }
   ],
   "source": [
    "U, S, V = np.linalg.svd(SA, full_matrices=False)\n",
    "S"
   ]
  },
  {
   "cell_type": "markdown",
   "metadata": {},
   "source": [
    "# Part III: Test on high-resolution images\n",
    "Let's try to compress the following image\n",
    "<img src=\"Data/Images/SpaceWalk_2.jpg\" width=\"400\">"
   ]
  },
  {
   "cell_type": "code",
   "execution_count": 15,
   "metadata": {},
   "outputs": [
    {
     "name": "stdout",
     "output_type": "stream",
     "text": [
      "Size of image: (1041, 1041, 3)\n"
     ]
    }
   ],
   "source": [
    "from PIL import Image\n",
    "img = Image.open(\"Data/Images/SpaceWalk_2.jpg\")\n",
    "img = np.array(img)\n",
    "print(\"Size of image:\", img.shape)"
   ]
  },
  {
   "cell_type": "code",
   "execution_count": 16,
   "metadata": {},
   "outputs": [
    {
     "data": {
      "text/plain": [
       "<matplotlib.image.AxesImage at 0x2a0fae6e550>"
      ]
     },
     "execution_count": 16,
     "metadata": {},
     "output_type": "execute_result"
    },
    {
     "data": {
      "image/png": "[encoded data removed]",
      "text/plain": [
       "<Figure size 432x288 with 1 Axes>"
      ]
     },
     "metadata": {},
     "output_type": "display_data"
    }
   ],
   "source": [
    "plt.imshow(img[:, :, 0], cmap=matplotlib.cm.binary)"
   ]
  },
  {
   "cell_type": "code",
   "execution_count": 21,
   "metadata": {},
   "outputs": [],
   "source": [
    "def lra_countsketch(A, k, m=None):\n",
    "    \"\"\"\n",
    "    Perform low rank approximation via CountSketch sampling.\n",
    "    \n",
    "    A: input matrix\n",
    "    k: target rank\n",
    "    m: sample size (if None, m is 10% of number of rows in A)\n",
    "    \n",
    "    Output:\n",
    "    G, H: A is approximated by G*H\n",
    "    \"\"\"\n",
    "    n, d = A.shape\n",
    "    print(\"size of input matrix A:\", n, d)\n",
    "\n",
    "    # Step 1: sample 10% rows and construct m*n CountSketch matrix\n",
    "    if m is None:\n",
    "        m = n // 10\n",
    "    # m = 1000\n",
    "    S_size, S_h, S_sigma = count_sketch(m, n)\n",
    "    print(\"size of CountSketch matrix S:\", S_size)\n",
    "\n",
    "    # Step 2: compute SA\n",
    "    SA = count_sketch_multi(S_size, S_h, S_sigma, A)\n",
    "    print(\"size of SA:\", SA.shape)\n",
    "\n",
    "    # Step 3: project each of the rows onto SA\n",
    "    X1 = approx_embedding(SA, A)\n",
    "    X2 = exact_embedding(SA, A) # for comparison purpose\n",
    "    print(\"||X - X_1|| (error norm of projection onto SA):\", np.linalg.norm(X1 - X2, ord=2)) # X2 should be close to X1\n",
    "\n",
    "    print(\"||A - X_1 * SA||:\", np.linalg.norm(A - X1.dot(SA), ord=2))\n",
    "\n",
    "    # DELETE:\n",
    "    # X1 = X2\n",
    "\n",
    "    # # Step 4: find the best rank-k approximation of projected points inside of rowspace SA\n",
    "    # X_approx = low_rank_approx(X1, k)\n",
    "    # print(\"||X_approx|| (norm of projection matrix):\", np.linalg.norm(X1, ord=2))\n",
    "    # print(\"approximation error on projection matrix:\", np.linalg.norm(X1 - X_approx, ord=2))\n",
    "    # print(\"Best approximation error on projection matrix:\", np.linalg.norm(X1 - low_rank_approx(X1, k),\n",
    "    #                                                                        ord=2))\n",
    "    X_approx = X1\n",
    "    \n",
    "    # Verify that A is closely approximated by the product of X_approx and SA\n",
    "    print('Low rank approximation error:', np.linalg.norm(A - X_approx.dot(SA), ord=2))\n",
    "    print('Best low rank approximation error:', np.linalg.norm(A - low_rank_approx(A, k),\n",
    "                                                               ord=2))\n",
    "    print('size of A:', A.shape)\n",
    "    print('size of G', X_approx.shape, ' | size of H:', SA.shape)\n",
    "    return X_approx, SA"
   ]
  },
  {
   "cell_type": "code",
   "execution_count": 22,
   "metadata": {},
   "outputs": [
    {
     "name": "stdout",
     "output_type": "stream",
     "text": [
      "size of input matrix A: 1041 1041\n",
      "size of CountSketch matrix S: [104, 1041]\n",
      "size of SA: (104, 1041)\n",
      "||X - X_1|| (error norm of projection onto SA): 10627.128545010142\n",
      "||A - X_1 * SA||: 2416266.935153995\n",
      "Low rank approximation error: 2416266.935153995\n",
      "Best low rank approximation error: 1852.1867268008134\n",
      "size of A: (1041, 1041)\n",
      "size of G (1041, 104)  | size of H: (104, 1041)\n"
     ]
    }
   ],
   "source": [
    "k = 10\n",
    "A = img[:, :, 0]\n",
    "G, H = lra_countsketch(A, k)"
   ]
  },
  {
   "cell_type": "code",
   "execution_count": 28,
   "metadata": {},
   "outputs": [
    {
     "data": {
      "text/plain": [
       "<matplotlib.image.AxesImage at 0x2a08137def0>"
      ]
     },
     "execution_count": 28,
     "metadata": {},
     "output_type": "execute_result"
    },
    {
     "data": {
      "image/png": "[encoded data removed]",
      "text/plain": [
       "<Figure size 432x288 with 2 Axes>"
      ]
     },
     "metadata": {},
     "output_type": "display_data"
    }
   ],
   "source": [
    "plt.figure(figsize=(20, 20))\n",
    "fig = plt.subplot(221)\n",
    "fig.imshow(A, cmap=matplotlib.cm.binary)\n",
    "fig.set_title(\"Original Image\")\n",
    "fig = plt.subplot(222)\n",
    "fig.imshow(G.dot(H), cmap=matplotlib.cm.binary)\n",
    "fig.set_title(\"Low Rank Approximation\")\n",
    "fig = plt.subplot(223)\n",
    "fig.imshow(low_rank_approx(A, k))\n",
    "fig.set_title(\"Best Rank k Approximation\")\n",
    "fig = plt.subplot(224)\n",
    "fig.imshow"
   ]
  },
  {
   "cell_type": "markdown",
   "metadata": {},
   "source": [
    "### Related Problems\n",
    "- **Column subset selection (feature selection, CX, CUR)**: $\\Pi$ consists of columns of $M$. ([Friez-Kannan-Vempala 98], [Drineas-Mahoney-Muthukrishnan 06], [Deshpande-Vempala 06])"
   ]
  },
  {
   "cell_type": "markdown",
   "metadata": {},
   "source": [
    "### Online Algorithms\n",
    "\n",
    "- Columns arrive one by one\n",
    "- Need to add to $S$ or ignore\n",
    "- Complete with best $S$ in hindsight (in approximation error)\n",
    "\n",
    "**Online PCA:** [Boutsidis-Garber-Karnin-Liberty 15] additive approximation $\\epsilon\\|U\\|_F^2$ using $k\\cdot polylog(n)$ dimensions.\n",
    "\n",
    "**Online CUR:** [Bhaskara 18] $(1+\\epsilon)$ relative error using $k\\cdot polylog(n/\\epsilon)$ columns using adaptive sampling, if a) we have a $poly(n)$ approximation of OPT, and $\\sigma^2_{max}/OPT$ is at most $poly(n, d)$.\n",
    "\n",
    "**Online k-means:** [Meyerson 01] objective: small number of clusters, near-optimal centers"
   ]
  },
  {
   "cell_type": "markdown",
   "metadata": {},
   "source": [
    "### Constructing sampling distribution\n",
    "\n",
    "**Assumptions (not essential):**\n",
    "- OPT ($=\\|U - U_k\\|_F$) is known \n",
    "- $\\|U\\|_2$ is known\n",
    "\n",
    "**\"Ideal\" algorithm:**\n",
    "- Select a column with probability proportional to how much it can reduce the objective function:\n",
    "$$\n",
    "p_i := Pr(u_i\\rightarrow S) = \\min\\{1, k\\cdot\\frac{\\|\\Pi_S^\\perp u_i\\|_2^2}{OPT}\\}\n",
    "$$\n",
    "- Difficult to analyze\n",
    "- Observation: it is impossible to have many $p_i$ to be close to 1 (it means $u_i$ has a large component perpendicular to previous chosen columns). Otherwise $U$ is not numerial low rank (Geometric lemma)."
   ]
  },
  {
   "cell_type": "code",
   "execution_count": null,
   "metadata": {},
   "outputs": [],
   "source": []
  },
  {
   "cell_type": "code",
   "execution_count": null,
   "metadata": {},
   "outputs": [],
   "source": []
  },
  {
   "cell_type": "code",
   "execution_count": null,
   "metadata": {},
   "outputs": [],
   "source": []
  }
 ],
 "metadata": {
  "kernelspec": {
   "display_name": "Python 3",
   "language": "python",
   "name": "python3"
  },
  "language_info": {
   "codemirror_mode": {
    "name": "ipython",
    "version": 3
   },
   "file_extension": ".py",
   "mimetype": "text/x-python",
   "name": "python",
   "nbconvert_exporter": "python",
   "pygments_lexer": "ipython3",
   "version": "3.6.5"
  }
 },
 "nbformat": 4,
 "nbformat_minor": 2
}
